{
 "cells": [
  {
   "cell_type": "code",
   "execution_count": 1,
   "id": "723b05bb",
   "metadata": {},
   "outputs": [
    {
     "name": "stderr",
     "output_type": "stream",
     "text": [
      "[nltk_data] Downloading package stopwords to\n",
      "[nltk_data]     C:\\Users\\Any\\AppData\\Roaming\\nltk_data...\n",
      "[nltk_data]   Package stopwords is already up-to-date!\n",
      "[nltk_data] Downloading package punkt to\n",
      "[nltk_data]     C:\\Users\\Any\\AppData\\Roaming\\nltk_data...\n",
      "[nltk_data]   Package punkt is already up-to-date!\n"
     ]
    },
    {
     "data": {
      "text/plain": [
       "True"
      ]
     },
     "execution_count": 1,
     "metadata": {},
     "output_type": "execute_result"
    }
   ],
   "source": [
    "\n",
    "import nltk \n",
    "from nltk.corpus import stopwords \n",
    "from nltk.tokenize import word_tokenize, sent_tokenize \n",
    "nltk.download('stopwords')\n",
    "nltk.download('punkt')\n",
    "     "
   ]
  },
  {
   "cell_type": "code",
   "execution_count": 9,
   "id": "dda09406",
   "metadata": {},
   "outputs": [],
   "source": [
    "# Input text - to summarize \n",
    "text = \"\"\"\n",
    "The son of a salesman who later operated an electrochemical factory, Einstein was born in the German Empire, but moved to Switzerland in 1895 and renounced his German citizenship in 1896. Specializing in physics and mathematics, he received his academic teaching diploma from the Swiss Federal Polytechnic School (German: eidgenössische polytechnische Schule) in Zürich in 1900. The following year, he acquired Swiss citizenship, which he kept for his entire life. After initially struggling to find work, from 1902 to 1909 he was employed as a patent examiner at the Swiss Patent Office in Bern.\n",
    "\n",
    "Near the beginning of his career, Einstein thought that Newtonian mechanics was no longer enough to reconcile the laws of classical mechanics with the laws of the electromagnetic field. This led him to develop his special theory of relativity during his time at the Swiss Patent Office. There is evidence—from Einstein's own writings—that he collaborated with his first wife, Mileva Marić on this work. The decision to publish only under his name seems to have been mutual, but the exact reason is unknown.[11] In 1905, called his annus mirabilis (miracle year), he published four groundbreaking papers, which attracted the attention of the academic world; the first outlined the theory of the photoelectric effect, the second paper explained Brownian motion, the third paper introduced special relativity, and the fourth mass-energy equivalence. That year, at the age of 26, he was awarded a PhD by the University of Zurich.\n",
    "\n",
    " \"\"\"\n"
   ]
  },
  {
   "cell_type": "code",
   "execution_count": 16,
   "id": "9701f298",
   "metadata": {},
   "outputs": [],
   "source": [
    "# Tokenizing the text\n",
    "text\n",
    "stopWords = set(stopwords.words(\"english\")) \n",
    "words = word_tokenize(text) \n",
    "\n",
    "# Creating a frequency table to keep the \n",
    "# score of each word \n"
   ]
  },
  {
   "cell_type": "code",
   "execution_count": 11,
   "id": "e164a69f",
   "metadata": {},
   "outputs": [],
   "source": [
    "freqTable = dict() \n",
    "for word in words: \n",
    "\tword = word.lower() \n",
    "\tif word in stopWords: \n",
    "\t\tcontinue\n",
    "\tif word in freqTable: \n",
    "\t\tfreqTable[word] += 1\n",
    "\telse: \n",
    "\t\tfreqTable[word] = 1\n"
   ]
  },
  {
   "cell_type": "code",
   "execution_count": 5,
   "id": "96a33e81",
   "metadata": {},
   "outputs": [],
   "source": [
    "# Creating a dictionary to keep the score \n",
    "# of each sentence \n",
    "sentences = sent_tokenize(text) \n",
    "sentenceValue = dict() \n",
    "\n",
    "for sentence in sentences: \n",
    "\tfor word, freq in freqTable.items(): \n",
    "\t\tif word in sentence.lower(): \n",
    "\t\t\tif sentence in sentenceValue: \n",
    "\t\t\t\tsentenceValue[sentence] += freq \n",
    "\t\t\telse: \n",
    "\t\t\t\tsentenceValue[sentence] = freq "
   ]
  },
  {
   "cell_type": "code",
   "execution_count": 12,
   "id": "a12e1360",
   "metadata": {},
   "outputs": [],
   "source": [
    "sumValues = 0\n",
    "for sentence in sentenceValue: \n",
    "\tsumValues += sentenceValue[sentence] \n"
   ]
  },
  {
   "cell_type": "code",
   "execution_count": 13,
   "id": "8b089db9",
   "metadata": {},
   "outputs": [],
   "source": [
    "# Average value of a sentence from the original text \n",
    "average = int(sumValues / (len(sentenceValue)+1)) "
   ]
  },
  {
   "cell_type": "code",
   "execution_count": 14,
   "id": "fa2aa3d4",
   "metadata": {},
   "outputs": [],
   "source": [
    "# Storing sentences into our summary. \n",
    "summary = '' \n",
    "for sentence in sentences: \n",
    "\tif (sentence in sentenceValue) and (sentenceValue[sentence] > (1.2 * average)): \n",
    "\t\tsummary += \" \" + sentence "
   ]
  },
  {
   "cell_type": "code",
   "execution_count": 15,
   "id": "f0a8c2f1",
   "metadata": {},
   "outputs": [
    {
     "name": "stdout",
     "output_type": "stream",
     "text": [
      " Specializing in physics and mathematics, he received his academic teaching diploma from the Swiss Federal Polytechnic School (German: eidgenössische polytechnische Schule) in Zürich in 1900. [11] In 1905, called his annus mirabilis (miracle year), he published four groundbreaking papers, which attracted the attention of the academic world; the first outlined the theory of the photoelectric effect, the second paper explained Brownian motion, the third paper introduced special relativity, and the fourth mass-energy equivalence.\n"
     ]
    }
   ],
   "source": [
    "print(summary) \n",
    "     "
   ]
  },
  {
   "cell_type": "code",
   "execution_count": null,
   "id": "1b51d4b4",
   "metadata": {},
   "outputs": [],
   "source": []
  }
 ],
 "metadata": {
  "kernelspec": {
   "display_name": "Python 3 (ipykernel)",
   "language": "python",
   "name": "python3"
  },
  "language_info": {
   "codemirror_mode": {
    "name": "ipython",
    "version": 3
   },
   "file_extension": ".py",
   "mimetype": "text/x-python",
   "name": "python",
   "nbconvert_exporter": "python",
   "pygments_lexer": "ipython3",
   "version": "3.9.13"
  }
 },
 "nbformat": 4,
 "nbformat_minor": 5
}
